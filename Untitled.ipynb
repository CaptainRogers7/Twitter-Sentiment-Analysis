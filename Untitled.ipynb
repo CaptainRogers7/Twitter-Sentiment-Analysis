{
 "cells": [
  {
   "cell_type": "code",
   "execution_count": 3,
   "metadata": {},
   "outputs": [
    {
     "data": {
      "text/html": [
       "<div>\n",
       "<style scoped>\n",
       "    .dataframe tbody tr th:only-of-type {\n",
       "        vertical-align: middle;\n",
       "    }\n",
       "\n",
       "    .dataframe tbody tr th {\n",
       "        vertical-align: top;\n",
       "    }\n",
       "\n",
       "    .dataframe thead th {\n",
       "        text-align: right;\n",
       "    }\n",
       "</style>\n",
       "<table border=\"1\" class=\"dataframe\">\n",
       "  <thead>\n",
       "    <tr style=\"text-align: right;\">\n",
       "      <th></th>\n",
       "      <th>id</th>\n",
       "      <th>label</th>\n",
       "      <th>tweet</th>\n",
       "    </tr>\n",
       "  </thead>\n",
       "  <tbody>\n",
       "    <tr>\n",
       "      <th>0</th>\n",
       "      <td>1</td>\n",
       "      <td>0</td>\n",
       "      <td>@user when a father is dysfunctional and is s...</td>\n",
       "    </tr>\n",
       "    <tr>\n",
       "      <th>1</th>\n",
       "      <td>2</td>\n",
       "      <td>0</td>\n",
       "      <td>@user @user thanks for #lyft credit i can't us...</td>\n",
       "    </tr>\n",
       "    <tr>\n",
       "      <th>2</th>\n",
       "      <td>3</td>\n",
       "      <td>0</td>\n",
       "      <td>bihday your majesty</td>\n",
       "    </tr>\n",
       "    <tr>\n",
       "      <th>3</th>\n",
       "      <td>4</td>\n",
       "      <td>0</td>\n",
       "      <td>#model   i love u take with u all the time in ...</td>\n",
       "    </tr>\n",
       "    <tr>\n",
       "      <th>4</th>\n",
       "      <td>5</td>\n",
       "      <td>0</td>\n",
       "      <td>factsguide: society now    #motivation</td>\n",
       "    </tr>\n",
       "  </tbody>\n",
       "</table>\n",
       "</div>"
      ],
      "text/plain": [
       "   id  label                                              tweet\n",
       "0   1      0   @user when a father is dysfunctional and is s...\n",
       "1   2      0  @user @user thanks for #lyft credit i can't us...\n",
       "2   3      0                                bihday your majesty\n",
       "3   4      0  #model   i love u take with u all the time in ...\n",
       "4   5      0             factsguide: society now    #motivation"
      ]
     },
     "execution_count": 3,
     "metadata": {},
     "output_type": "execute_result"
    }
   ],
   "source": [
    "import pandas as pd\n",
    "import numpy as np\n",
    "data_train = pd.read_csv(\"train.csv\")\n",
    "data_test = pd.read_csv(\"test.csv\")\n",
    "data_train.head()"
   ]
  },
  {
   "cell_type": "code",
   "execution_count": 8,
   "metadata": {},
   "outputs": [
    {
     "data": {
      "text/html": [
       "<div>\n",
       "<style scoped>\n",
       "    .dataframe tbody tr th:only-of-type {\n",
       "        vertical-align: middle;\n",
       "    }\n",
       "\n",
       "    .dataframe tbody tr th {\n",
       "        vertical-align: top;\n",
       "    }\n",
       "\n",
       "    .dataframe thead th {\n",
       "        text-align: right;\n",
       "    }\n",
       "</style>\n",
       "<table border=\"1\" class=\"dataframe\">\n",
       "  <thead>\n",
       "    <tr style=\"text-align: right;\">\n",
       "      <th></th>\n",
       "      <th>id</th>\n",
       "      <th>tweet</th>\n",
       "    </tr>\n",
       "  </thead>\n",
       "  <tbody>\n",
       "    <tr>\n",
       "      <th>0</th>\n",
       "      <td>31963</td>\n",
       "      <td>#studiolife #aislife #requires #passion #dedic...</td>\n",
       "    </tr>\n",
       "    <tr>\n",
       "      <th>1</th>\n",
       "      <td>31964</td>\n",
       "      <td>@user #white #supremacists want everyone to s...</td>\n",
       "    </tr>\n",
       "    <tr>\n",
       "      <th>2</th>\n",
       "      <td>31965</td>\n",
       "      <td>safe ways to heal your #acne!!    #altwaystohe...</td>\n",
       "    </tr>\n",
       "    <tr>\n",
       "      <th>3</th>\n",
       "      <td>31966</td>\n",
       "      <td>is the hp and the cursed child book up for res...</td>\n",
       "    </tr>\n",
       "    <tr>\n",
       "      <th>4</th>\n",
       "      <td>31967</td>\n",
       "      <td>3rd #bihday to my amazing, hilarious #nephew...</td>\n",
       "    </tr>\n",
       "  </tbody>\n",
       "</table>\n",
       "</div>"
      ],
      "text/plain": [
       "      id                                              tweet\n",
       "0  31963  #studiolife #aislife #requires #passion #dedic...\n",
       "1  31964   @user #white #supremacists want everyone to s...\n",
       "2  31965  safe ways to heal your #acne!!    #altwaystohe...\n",
       "3  31966  is the hp and the cursed child book up for res...\n",
       "4  31967    3rd #bihday to my amazing, hilarious #nephew..."
      ]
     },
     "execution_count": 8,
     "metadata": {},
     "output_type": "execute_result"
    }
   ],
   "source": [
    "data_test.head()\n",
    "#print(len(data_train['id']))\n",
    "#31962"
   ]
  },
  {
   "cell_type": "code",
   "execution_count": 13,
   "metadata": {},
   "outputs": [
    {
     "name": "stderr",
     "output_type": "stream",
     "text": [
      "E:\\anaconda\\lib\\site-packages\\ipykernel_launcher.py:1: FutureWarning: Sorting because non-concatenation axis is not aligned. A future version\n",
      "of pandas will change to not sort by default.\n",
      "\n",
      "To accept the future behavior, pass 'sort=False'.\n",
      "\n",
      "To retain the current behavior and silence the warning, pass 'sort=True'.\n",
      "\n",
      "  \"\"\"Entry point for launching an IPython kernel.\n"
     ]
    }
   ],
   "source": [
    "combined_data = pd.concat([data_train,data_test],axis=0)"
   ]
  },
  {
   "cell_type": "code",
   "execution_count": 11,
   "metadata": {},
   "outputs": [
    {
     "name": "stdout",
     "output_type": "stream",
     "text": [
      "          id  label                                              tweet\n",
      "0          1    0.0   @user when a father is dysfunctional and is s...\n",
      "1          2    0.0  @user @user thanks for #lyft credit i can't us...\n",
      "2          3    0.0                                bihday your majesty\n",
      "3          4    0.0  #model   i love u take with u all the time in ...\n",
      "4          5    0.0             factsguide: society now    #motivation\n",
      "5          6    0.0  [2/2] huge fan fare and big talking before the...\n",
      "6          7    0.0   @user camping tomorrow @user @user @user @use...\n",
      "7          8    0.0  the next school year is the year for exams.ð...\n",
      "8          9    0.0  we won!!! love the land!!! #allin #cavs #champ...\n",
      "9         10    0.0   @user @user welcome here !  i'm   it's so #gr...\n",
      "10        11    0.0   â #ireland consumer price index (mom) climb...\n",
      "11        12    0.0  we are so selfish. #orlando #standwithorlando ...\n",
      "12        13    0.0  i get to see my daddy today!!   #80days #getti...\n",
      "13        14    1.0  @user #cnn calls #michigan middle school 'buil...\n",
      "14        15    1.0  no comment!  in #australia   #opkillingbay #se...\n",
      "15        16    0.0  ouch...junior is angryð#got7 #junior #yugyo...\n",
      "16        17    0.0  i am thankful for having a paner. #thankful #p...\n",
      "17        18    1.0                             retweet if you agree! \n",
      "18        19    0.0  its #friday! ð smiles all around via ig use...\n",
      "19        20    0.0  as we all know, essential oils are not made of...\n",
      "20        21    0.0  #euro2016 people blaming ha for conceded goal ...\n",
      "21        22    0.0  sad little dude..   #badday #coneofshame #cats...\n",
      "22        23    0.0  product of the day: happy man #wine tool  who'...\n",
      "23        24    1.0    @user @user lumpy says i am a . prove it lumpy.\n",
      "24        25    0.0   @user #tgif   #ff to my #gamedev #indiedev #i...\n",
      "25        26    0.0  beautiful sign by vendor 80 for $45.00!! #upsi...\n",
      "26        27    0.0   @user all #smiles when #media is   !! ðð...\n",
      "27        28    0.0  we had a great panel on the mediatization of t...\n",
      "28        29    0.0        happy father's day @user ðððð  \n",
      "29        30    0.0  50 people went to nightclub to have a good nig...\n",
      "...      ...    ...                                                ...\n",
      "17167  49130    NaN  people do anything for fucking attention nowad...\n",
      "17168  49131    NaN  creative bubble got burst ð¢ looking forward...\n",
      "17169  49132    NaN  tomorrow is gonna be a big day! we are going t...\n",
      "17170  49133    NaN  i am thankful for baby giggles. #thankful #pos...\n",
      "17171  49134    NaN  #model   i love u take with u all the time in ...\n",
      "17172  49135    NaN  in life u will grow to learn some pple will wo...\n",
      "17173  49136    NaN  ði was the storm,you were the rain. togethe...\n",
      "17174  49137    NaN  lovelgq -  broken ep via   #rnb #love #heabrok...\n",
      "17175  49138    NaN  spread love not hateâ¤ï¸ðððð #pr...\n",
      "17176  49139    NaN     @user @user are the most racist pay ever!!!!! \n",
      "17177  49140    NaN  i am thankful for children. #thankful #positiv...\n",
      "17178  49141    NaN  liverpool â¤ï¸ð¬ð§ #walk #liverpool #sta...\n",
      "17179  49142    NaN  #bakersfield   rooster simulation: i want to c...\n",
      "17180  49143    NaN  por do sol ó¾â¤ï¸#instagood #beautiful   #...\n",
      "17181  49144    NaN  @user hell yeah what a great surprise for your...\n",
      "17182  49145    NaN  when ur the joke ur defensive towards everythi...\n",
      "17183  49146    NaN  #enjoying the #evening #sun in my #bedroom â¨...\n",
      "17184  49147    NaN  tonight on @user from 9pm gmt  you can here a ...\n",
      "17185  49148    NaN  today is a good day for excercise #imready #so...\n",
      "17186  49149    NaN  good night with a tea and music âï¸ðð...\n",
      "17187  49150    NaN  loving lifeðºð¸âï¸ð  #createyourfutu...\n",
      "17188  49151    NaN  black professor demonizes, proposes nazi style...\n",
      "17189  49152    NaN  learn how to think positive.  #positive   #ins...\n",
      "17190  49153    NaN  we love the pretty, happy and fresh you! #teen...\n",
      "17191  49154    NaN  2_damn_tuff-ruff_muff__techno_city-(ng005)-web...\n",
      "17192  49155    NaN  thought factory: left-right polarisation! #tru...\n",
      "17193  49156    NaN  feeling like a mermaid ð #hairflip #neverre...\n",
      "17194  49157    NaN  #hillary #campaigned today in #ohio((omg)) &am...\n",
      "17195  49158    NaN  happy, at work conference: right mindset leads...\n",
      "17196  49159    NaN  my   song \"so glad\" free download!  #shoegaze ...\n",
      "\n",
      "[49159 rows x 3 columns]\n"
     ]
    }
   ],
   "source": [
    "print(combined_data)"
   ]
  },
  {
   "cell_type": "code",
   "execution_count": null,
   "metadata": {},
   "outputs": [],
   "source": []
  }
 ],
 "metadata": {
  "kernelspec": {
   "display_name": "Python 3",
   "language": "python",
   "name": "python3"
  },
  "language_info": {
   "codemirror_mode": {
    "name": "ipython",
    "version": 3
   },
   "file_extension": ".py",
   "mimetype": "text/x-python",
   "name": "python",
   "nbconvert_exporter": "python",
   "pygments_lexer": "ipython3",
   "version": "3.7.3"
  }
 },
 "nbformat": 4,
 "nbformat_minor": 2
}
